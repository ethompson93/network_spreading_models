{
  "nbformat": 4,
  "nbformat_minor": 0,
  "metadata": {
    "colab": {
      "provenance": []
    },
    "kernelspec": {
      "name": "python3",
      "display_name": "Python 3"
    },
    "language_info": {
      "name": "python"
    }
  },
  "cells": [
    {
      "cell_type": "code",
      "execution_count": null,
      "metadata": {
        "id": "CM3P97P71PYw"
      },
      "outputs": [],
      "source": [
        "import numpy as np\n",
        "import pandas as pd\n",
        "import seaborn as sns\n",
        "from scipy.linalg import expm"
      ]
    },
    {
      "cell_type": "code",
      "source": [
        "class NDM():\n",
        "    \"\"\"\n",
        "    class containing the paramters and implimenting the Network diffusion model\n",
        "    \"\"\"\n",
        "    def __init__(self, connectome_fname, gamma, t, seed_idx):\n",
        "        self.connectome_fname = connectome_fname\n",
        "\n",
        "        #self.rnoi = self.connectome.shape[0]\n",
        "        self.gamma = gamma\n",
        "        self.t = t\n",
        "        self.seed_idx = seed_idx\n",
        "\n",
        "\n",
        "    def prep_connectome(self):\n",
        "        '''\n",
        "        load connectome and ensure it is symmetrical\n",
        "        '''\n",
        "        C = np.loadtxt(self.connectome_fname, delimiter=\",\")\n",
        "\n",
        "        # check connectome is 2D square\n",
        "        assert C.shape[0] == C.shape[1]\n",
        "        assert len(C.shape) ==2\n",
        "\n",
        "        # make symmetric matrix\n",
        "        return np.triu(C,1)+np.tril(C.T)\n",
        "\n",
        "    def get_initial_con\n",
        "\n",
        "    def run_NDM(self):\n",
        "        '''\n",
        "        run the NDM network diffusion model by Raj et al.\n",
        "        inputs: C = connectome,\n",
        "                x0 = initial tau accumulation in each region,\n",
        "                gamma = diffusivity constant,\n",
        "                t = list of time points at which to predict accumulation\n",
        "        output:\n",
        "        '''\n",
        "        C = self.prep_connectome()\n",
        "        dt = self.t[1]-self.t[0]\n",
        "        Nt = len(self.t)\n",
        "\n",
        "        rowdegree = np.sum(C, 1)\n",
        "        D = np.diag(np.sum(C,0))\n",
        "        H = D - C                           # this does not include self-connections in the Laplacian\n",
        "        H = np.diag(1/(rowdegree+np.finfo(float).eps)) @ H  # since all brain regions are not the same size, each row and column is normalised by its sum\n",
        "        # note: this normalisation prevents means the sum of tau at each time is not consistent\n",
        "        # note +eps above, this prevents H containing NaNs if the rowdegree contains 0\n",
        "\n",
        "        #loop through time points, estimating tau accumulation at each point\n",
        "        x_t = np.empty([len(C),Nt])\n",
        "        x_t[:] = 0\n",
        "\n",
        "        x_t[self.seed_idx,0] = 1     # set first time point to initial conditions. Probably want to update this to a better method\n",
        "\n",
        "        for kt in range(1,Nt):  #iterate through time points, calculating the node atrophy as you go along\n",
        "                x_t[:,kt] = expm(-self.gamma*H*dt) @ x_t[:,kt-1]\n",
        "\n",
        "        return x_t/np.max(x_t,axis=0)\n",
        "\n",
        "\n",
        "    def optimise_epicentre(node_set,C,gamma,t,x_t_observed):\n",
        "        '''\n",
        "        pick the epicentre which gives the optimal results\n",
        "        '''\n",
        "        nroi = len(C)\n",
        "        min_sse_allEpis=[]\n",
        "        min_sse_t_allEpis=[]\n",
        "\n",
        "        for node in node_set:\n",
        "            x0 = np.zeros(nroi)\n",
        "            x0[node] = 1\n",
        "            x_t = run_NDM(C,x0,gamma,t)\n",
        "\n",
        "            # might be worth testing timing for saving all sse here into matirx\n",
        "            # min_sse = (NroixNtxNepi), do one minimisation at the end\n",
        "            # memory vs minimal operations trade-off\n",
        "            min_sse_node = calc_min_sse(x_t_observed,x_t)\n",
        "            min_sse_allEpis.append(min_sse_node[0])\n",
        "            min_sse_t_allEpis.append(min_sse_node[1])\n",
        "\n",
        "        # think about outputs\n",
        "        epi_idx = np.argmin(min_sse_allEpis)\n",
        "        min_sse = min_sse_allEpis[epi_idx]\n",
        "        t = min_sse_t_allEpis[epi_idx]\n",
        "\n",
        "        return min_sse,epi_idx,t\n",
        "\n",
        "\n",
        "    def calc_min_sse(x_t_observed,x_t_predicted):\n",
        "        '''\n",
        "        calculate the minimum sse between observed regional values,\n",
        "        and a series of predicted regional values\n",
        "        inputs: x_t_observed - vector of observed regional values (Nroi,)\n",
        "                x_t_predicted - vector of NDM predicted regional values (Nroi x Nt)\n",
        "        '''\n",
        "\n",
        "        sse = np.sum((x_t_predicted.T - x_t_observed).T**2,axis=0)\n",
        "        I = np.argmin(sse)\n",
        "        min_sse = sse[I]\n",
        "        return [min_sse,I]"
      ],
      "metadata": {
        "id": "b0gtXH7D3gbS"
      },
      "execution_count": null,
      "outputs": []
    },
    {
      "cell_type": "code",
      "source": [
        "sns.heatmap(C)"
      ],
      "metadata": {
        "colab": {
          "base_uri": "https://localhost:8080/",
          "height": 178
        },
        "id": "apH6s3ia5YH4",
        "outputId": "98b2ab6a-a3a4-41f6-da8b-f8a1b2a34dd8"
      },
      "execution_count": null,
      "outputs": [
        {
          "output_type": "error",
          "ename": "NameError",
          "evalue": "ignored",
          "traceback": [
            "\u001b[0;31m---------------------------------------------------------------------------\u001b[0m",
            "\u001b[0;31mNameError\u001b[0m                                 Traceback (most recent call last)",
            "\u001b[0;32m<ipython-input-3-842b4fdbe68b>\u001b[0m in \u001b[0;36m<cell line: 1>\u001b[0;34m()\u001b[0m\n\u001b[0;32m----> 1\u001b[0;31m \u001b[0msns\u001b[0m\u001b[0;34m.\u001b[0m\u001b[0mheatmap\u001b[0m\u001b[0;34m(\u001b[0m\u001b[0mC\u001b[0m\u001b[0;34m)\u001b[0m\u001b[0;34m\u001b[0m\u001b[0;34m\u001b[0m\u001b[0m\n\u001b[0m",
            "\u001b[0;31mNameError\u001b[0m: name 'C' is not defined"
          ]
        }
      ]
    },
    {
      "cell_type": "code",
      "source": [
        "a = NDM(\"tractography.csv\", 0.1, [0,10,100], 1)\n",
        "a.prep_connectome()"
      ],
      "metadata": {
        "colab": {
          "base_uri": "https://localhost:8080/",
          "height": 344
        },
        "id": "e9wFpoIc56sT",
        "outputId": "b79c02fa-57a1-4e81-8aea-bf9f67696b3f"
      },
      "execution_count": null,
      "outputs": [
        {
          "output_type": "error",
          "ename": "FileNotFoundError",
          "evalue": "ignored",
          "traceback": [
            "\u001b[0;31m---------------------------------------------------------------------------\u001b[0m",
            "\u001b[0;31mFileNotFoundError\u001b[0m                         Traceback (most recent call last)",
            "\u001b[0;32m<ipython-input-4-141d7aa01363>\u001b[0m in \u001b[0;36m<cell line: 2>\u001b[0;34m()\u001b[0m\n\u001b[1;32m      1\u001b[0m \u001b[0ma\u001b[0m \u001b[0;34m=\u001b[0m \u001b[0mNDM\u001b[0m\u001b[0;34m(\u001b[0m\u001b[0;34m\"tractography.csv\"\u001b[0m\u001b[0;34m,\u001b[0m \u001b[0;36m0.1\u001b[0m\u001b[0;34m,\u001b[0m \u001b[0;34m[\u001b[0m\u001b[0;36m0\u001b[0m\u001b[0;34m,\u001b[0m\u001b[0;36m10\u001b[0m\u001b[0;34m,\u001b[0m\u001b[0;36m100\u001b[0m\u001b[0;34m]\u001b[0m\u001b[0;34m,\u001b[0m \u001b[0;36m1\u001b[0m\u001b[0;34m)\u001b[0m\u001b[0;34m\u001b[0m\u001b[0;34m\u001b[0m\u001b[0m\n\u001b[0;32m----> 2\u001b[0;31m \u001b[0ma\u001b[0m\u001b[0;34m.\u001b[0m\u001b[0mprep_connectome\u001b[0m\u001b[0;34m(\u001b[0m\u001b[0;34m)\u001b[0m\u001b[0;34m\u001b[0m\u001b[0;34m\u001b[0m\u001b[0m\n\u001b[0m",
            "\u001b[0;32m<ipython-input-2-5981a479272d>\u001b[0m in \u001b[0;36mprep_connectome\u001b[0;34m(self)\u001b[0m\n\u001b[1;32m     16\u001b[0m         \u001b[0mload\u001b[0m \u001b[0mconnectome\u001b[0m \u001b[0;32mand\u001b[0m \u001b[0mensure\u001b[0m \u001b[0mit\u001b[0m \u001b[0;32mis\u001b[0m \u001b[0msymmetrical\u001b[0m\u001b[0;34m\u001b[0m\u001b[0;34m\u001b[0m\u001b[0m\n\u001b[1;32m     17\u001b[0m         '''\n\u001b[0;32m---> 18\u001b[0;31m         \u001b[0mC\u001b[0m \u001b[0;34m=\u001b[0m \u001b[0mnp\u001b[0m\u001b[0;34m.\u001b[0m\u001b[0mloadtxt\u001b[0m\u001b[0;34m(\u001b[0m\u001b[0mself\u001b[0m\u001b[0;34m.\u001b[0m\u001b[0mconnectome_fname\u001b[0m\u001b[0;34m,\u001b[0m \u001b[0mdelimiter\u001b[0m\u001b[0;34m=\u001b[0m\u001b[0;34m\",\"\u001b[0m\u001b[0;34m)\u001b[0m\u001b[0;34m\u001b[0m\u001b[0;34m\u001b[0m\u001b[0m\n\u001b[0m\u001b[1;32m     19\u001b[0m \u001b[0;34m\u001b[0m\u001b[0m\n\u001b[1;32m     20\u001b[0m         \u001b[0;31m# check connectome is 2D square\u001b[0m\u001b[0;34m\u001b[0m\u001b[0;34m\u001b[0m\u001b[0m\n",
            "\u001b[0;32m/usr/local/lib/python3.10/dist-packages/numpy/lib/npyio.py\u001b[0m in \u001b[0;36mloadtxt\u001b[0;34m(fname, dtype, comments, delimiter, converters, skiprows, usecols, unpack, ndmin, encoding, max_rows, quotechar, like)\u001b[0m\n\u001b[1;32m   1336\u001b[0m         \u001b[0mdelimiter\u001b[0m \u001b[0;34m=\u001b[0m \u001b[0mdelimiter\u001b[0m\u001b[0;34m.\u001b[0m\u001b[0mdecode\u001b[0m\u001b[0;34m(\u001b[0m\u001b[0;34m'latin1'\u001b[0m\u001b[0;34m)\u001b[0m\u001b[0;34m\u001b[0m\u001b[0;34m\u001b[0m\u001b[0m\n\u001b[1;32m   1337\u001b[0m \u001b[0;34m\u001b[0m\u001b[0m\n\u001b[0;32m-> 1338\u001b[0;31m     arr = _read(fname, dtype=dtype, comment=comment, delimiter=delimiter,\n\u001b[0m\u001b[1;32m   1339\u001b[0m                 \u001b[0mconverters\u001b[0m\u001b[0;34m=\u001b[0m\u001b[0mconverters\u001b[0m\u001b[0;34m,\u001b[0m \u001b[0mskiplines\u001b[0m\u001b[0;34m=\u001b[0m\u001b[0mskiprows\u001b[0m\u001b[0;34m,\u001b[0m \u001b[0musecols\u001b[0m\u001b[0;34m=\u001b[0m\u001b[0musecols\u001b[0m\u001b[0;34m,\u001b[0m\u001b[0;34m\u001b[0m\u001b[0;34m\u001b[0m\u001b[0m\n\u001b[1;32m   1340\u001b[0m                 \u001b[0munpack\u001b[0m\u001b[0;34m=\u001b[0m\u001b[0munpack\u001b[0m\u001b[0;34m,\u001b[0m \u001b[0mndmin\u001b[0m\u001b[0;34m=\u001b[0m\u001b[0mndmin\u001b[0m\u001b[0;34m,\u001b[0m \u001b[0mencoding\u001b[0m\u001b[0;34m=\u001b[0m\u001b[0mencoding\u001b[0m\u001b[0;34m,\u001b[0m\u001b[0;34m\u001b[0m\u001b[0;34m\u001b[0m\u001b[0m\n",
            "\u001b[0;32m/usr/local/lib/python3.10/dist-packages/numpy/lib/npyio.py\u001b[0m in \u001b[0;36m_read\u001b[0;34m(fname, delimiter, comment, quote, imaginary_unit, usecols, skiplines, max_rows, converters, ndmin, unpack, dtype, encoding)\u001b[0m\n\u001b[1;32m    973\u001b[0m             \u001b[0mfname\u001b[0m \u001b[0;34m=\u001b[0m \u001b[0mos\u001b[0m\u001b[0;34m.\u001b[0m\u001b[0mfspath\u001b[0m\u001b[0;34m(\u001b[0m\u001b[0mfname\u001b[0m\u001b[0;34m)\u001b[0m\u001b[0;34m\u001b[0m\u001b[0;34m\u001b[0m\u001b[0m\n\u001b[1;32m    974\u001b[0m         \u001b[0;32mif\u001b[0m \u001b[0misinstance\u001b[0m\u001b[0;34m(\u001b[0m\u001b[0mfname\u001b[0m\u001b[0;34m,\u001b[0m \u001b[0mstr\u001b[0m\u001b[0;34m)\u001b[0m\u001b[0;34m:\u001b[0m\u001b[0;34m\u001b[0m\u001b[0;34m\u001b[0m\u001b[0m\n\u001b[0;32m--> 975\u001b[0;31m             \u001b[0mfh\u001b[0m \u001b[0;34m=\u001b[0m \u001b[0mnp\u001b[0m\u001b[0;34m.\u001b[0m\u001b[0mlib\u001b[0m\u001b[0;34m.\u001b[0m\u001b[0m_datasource\u001b[0m\u001b[0;34m.\u001b[0m\u001b[0mopen\u001b[0m\u001b[0;34m(\u001b[0m\u001b[0mfname\u001b[0m\u001b[0;34m,\u001b[0m \u001b[0;34m'rt'\u001b[0m\u001b[0;34m,\u001b[0m \u001b[0mencoding\u001b[0m\u001b[0;34m=\u001b[0m\u001b[0mencoding\u001b[0m\u001b[0;34m)\u001b[0m\u001b[0;34m\u001b[0m\u001b[0;34m\u001b[0m\u001b[0m\n\u001b[0m\u001b[1;32m    976\u001b[0m             \u001b[0;32mif\u001b[0m \u001b[0mencoding\u001b[0m \u001b[0;32mis\u001b[0m \u001b[0;32mNone\u001b[0m\u001b[0;34m:\u001b[0m\u001b[0;34m\u001b[0m\u001b[0;34m\u001b[0m\u001b[0m\n\u001b[1;32m    977\u001b[0m                 \u001b[0mencoding\u001b[0m \u001b[0;34m=\u001b[0m \u001b[0mgetattr\u001b[0m\u001b[0;34m(\u001b[0m\u001b[0mfh\u001b[0m\u001b[0;34m,\u001b[0m \u001b[0;34m'encoding'\u001b[0m\u001b[0;34m,\u001b[0m \u001b[0;34m'latin1'\u001b[0m\u001b[0;34m)\u001b[0m\u001b[0;34m\u001b[0m\u001b[0;34m\u001b[0m\u001b[0m\n",
            "\u001b[0;32m/usr/local/lib/python3.10/dist-packages/numpy/lib/_datasource.py\u001b[0m in \u001b[0;36mopen\u001b[0;34m(path, mode, destpath, encoding, newline)\u001b[0m\n\u001b[1;32m    191\u001b[0m \u001b[0;34m\u001b[0m\u001b[0m\n\u001b[1;32m    192\u001b[0m     \u001b[0mds\u001b[0m \u001b[0;34m=\u001b[0m \u001b[0mDataSource\u001b[0m\u001b[0;34m(\u001b[0m\u001b[0mdestpath\u001b[0m\u001b[0;34m)\u001b[0m\u001b[0;34m\u001b[0m\u001b[0;34m\u001b[0m\u001b[0m\n\u001b[0;32m--> 193\u001b[0;31m     \u001b[0;32mreturn\u001b[0m \u001b[0mds\u001b[0m\u001b[0;34m.\u001b[0m\u001b[0mopen\u001b[0m\u001b[0;34m(\u001b[0m\u001b[0mpath\u001b[0m\u001b[0;34m,\u001b[0m \u001b[0mmode\u001b[0m\u001b[0;34m,\u001b[0m \u001b[0mencoding\u001b[0m\u001b[0;34m=\u001b[0m\u001b[0mencoding\u001b[0m\u001b[0;34m,\u001b[0m \u001b[0mnewline\u001b[0m\u001b[0;34m=\u001b[0m\u001b[0mnewline\u001b[0m\u001b[0;34m)\u001b[0m\u001b[0;34m\u001b[0m\u001b[0;34m\u001b[0m\u001b[0m\n\u001b[0m\u001b[1;32m    194\u001b[0m \u001b[0;34m\u001b[0m\u001b[0m\n\u001b[1;32m    195\u001b[0m \u001b[0;34m\u001b[0m\u001b[0m\n",
            "\u001b[0;32m/usr/local/lib/python3.10/dist-packages/numpy/lib/_datasource.py\u001b[0m in \u001b[0;36mopen\u001b[0;34m(self, path, mode, encoding, newline)\u001b[0m\n\u001b[1;32m    531\u001b[0m                                       encoding=encoding, newline=newline)\n\u001b[1;32m    532\u001b[0m         \u001b[0;32melse\u001b[0m\u001b[0;34m:\u001b[0m\u001b[0;34m\u001b[0m\u001b[0;34m\u001b[0m\u001b[0m\n\u001b[0;32m--> 533\u001b[0;31m             \u001b[0;32mraise\u001b[0m \u001b[0mFileNotFoundError\u001b[0m\u001b[0;34m(\u001b[0m\u001b[0;34mf\"{path} not found.\"\u001b[0m\u001b[0;34m)\u001b[0m\u001b[0;34m\u001b[0m\u001b[0;34m\u001b[0m\u001b[0m\n\u001b[0m\u001b[1;32m    534\u001b[0m \u001b[0;34m\u001b[0m\u001b[0m\n\u001b[1;32m    535\u001b[0m \u001b[0;34m\u001b[0m\u001b[0m\n",
            "\u001b[0;31mFileNotFoundError\u001b[0m: tractography.csv not found."
          ]
        }
      ]
    },
    {
      "cell_type": "code",
      "source": [
        "a.run_NDM()"
      ],
      "metadata": {
        "colab": {
          "base_uri": "https://localhost:8080/"
        },
        "id": "X32ua2Zb6FYE",
        "outputId": "19ae7a62-ad19-49e3-f226-d1320aba4725"
      },
      "execution_count": null,
      "outputs": [
        {
          "output_type": "execute_result",
          "data": {
            "text/plain": [
              "array([[0.00000000e+00, 7.87468640e-04, 6.29577688e-03],\n",
              "       [1.00000000e+00, 1.00000000e+00, 1.00000000e+00],\n",
              "       [0.00000000e+00, 5.56013230e-03, 2.57084049e-02],\n",
              "       [0.00000000e+00, 1.36996694e-03, 8.96724440e-03],\n",
              "       [0.00000000e+00, 1.70047790e-03, 9.78052687e-03],\n",
              "       [0.00000000e+00, 8.48939637e-04, 6.24020446e-03],\n",
              "       [0.00000000e+00, 1.18673340e-03, 8.43385700e-03],\n",
              "       [0.00000000e+00, 1.02669833e-03, 7.18150940e-03],\n",
              "       [0.00000000e+00, 4.51970573e-02, 1.15562660e-01],\n",
              "       [0.00000000e+00, 9.10181306e-04, 6.66714867e-03],\n",
              "       [0.00000000e+00, 6.35254183e-03, 2.81385941e-02],\n",
              "       [0.00000000e+00, 1.07729704e-03, 7.10215467e-03],\n",
              "       [0.00000000e+00, 3.13838727e-02, 9.26800610e-02],\n",
              "       [0.00000000e+00, 1.16956183e-03, 7.87271144e-03],\n",
              "       [0.00000000e+00, 5.17786340e-03, 2.01779728e-02],\n",
              "       [0.00000000e+00, 8.76883108e-03, 3.57382623e-02],\n",
              "       [0.00000000e+00, 7.62652316e-03, 2.86840128e-02],\n",
              "       [0.00000000e+00, 4.12697913e-03, 2.09621169e-02],\n",
              "       [0.00000000e+00, 5.70489722e-03, 2.40892827e-02],\n",
              "       [0.00000000e+00, 8.14111834e-04, 6.32329661e-03],\n",
              "       [0.00000000e+00, 1.95486069e-03, 1.28304543e-02],\n",
              "       [0.00000000e+00, 8.93402623e-02, 1.95721283e-01],\n",
              "       [0.00000000e+00, 3.46251143e-03, 1.85633121e-02],\n",
              "       [0.00000000e+00, 1.99863153e-02, 6.11306318e-02],\n",
              "       [0.00000000e+00, 1.77068117e-01, 3.62882409e-01],\n",
              "       [0.00000000e+00, 9.44661689e-03, 3.48008748e-02],\n",
              "       [0.00000000e+00, 3.33360580e-02, 7.93980542e-02],\n",
              "       [0.00000000e+00, 2.84882986e-03, 1.46526899e-02],\n",
              "       [0.00000000e+00, 1.53922470e-03, 9.60084308e-03],\n",
              "       [0.00000000e+00, 1.41782422e-03, 9.63168040e-03],\n",
              "       [0.00000000e+00, 1.73956796e-02, 5.89592935e-02],\n",
              "       [0.00000000e+00, 1.13311977e-03, 7.83782345e-03],\n",
              "       [0.00000000e+00, 1.26359096e-03, 8.64692563e-03],\n",
              "       [0.00000000e+00, 4.87032949e-03, 2.08432102e-02],\n",
              "       [0.00000000e+00, 0.00000000e+00, 0.00000000e+00],\n",
              "       [0.00000000e+00, 4.46753332e-03, 2.05022115e-02],\n",
              "       [0.00000000e+00, 6.71175115e-03, 2.65878831e-02],\n",
              "       [0.00000000e+00, 5.42007684e-03, 2.33183011e-02],\n",
              "       [0.00000000e+00, 4.73234215e-03, 2.21776379e-02],\n",
              "       [0.00000000e+00, 3.01430466e-03, 1.37643368e-02],\n",
              "       [0.00000000e+00, 1.29590583e-03, 8.97717164e-03],\n",
              "       [0.00000000e+00, 1.84214786e-02, 5.46126628e-02],\n",
              "       [0.00000000e+00, 1.52115092e-03, 8.30606086e-03],\n",
              "       [0.00000000e+00, 2.54811662e-03, 1.17862518e-02],\n",
              "       [0.00000000e+00, 1.60593198e-03, 8.79376825e-03],\n",
              "       [0.00000000e+00, 1.63204638e-03, 8.95521113e-03],\n",
              "       [0.00000000e+00, 5.10252434e-04, 3.90768080e-03],\n",
              "       [0.00000000e+00, 3.98017127e-04, 3.31869629e-03],\n",
              "       [0.00000000e+00, 2.71496153e-03, 1.39854849e-02],\n",
              "       [0.00000000e+00, 3.88777127e-04, 3.20519430e-03],\n",
              "       [0.00000000e+00, 4.56376950e-03, 1.83185492e-02],\n",
              "       [0.00000000e+00, 4.74462171e-03, 1.81332303e-02],\n",
              "       [0.00000000e+00, 3.39882195e-04, 2.86803537e-03],\n",
              "       [0.00000000e+00, 1.59817308e-04, 1.83388324e-03],\n",
              "       [0.00000000e+00, 2.05833272e-04, 2.01584226e-03],\n",
              "       [0.00000000e+00, 5.64773068e-04, 4.20932149e-03],\n",
              "       [0.00000000e+00, 3.65450330e-04, 2.94636247e-03],\n",
              "       [0.00000000e+00, 1.09227115e-03, 7.28863669e-03],\n",
              "       [0.00000000e+00, 3.34393317e-04, 2.79964628e-03],\n",
              "       [0.00000000e+00, 2.30291734e-03, 1.27781501e-02],\n",
              "       [0.00000000e+00, 3.41532100e-04, 2.76056176e-03],\n",
              "       [0.00000000e+00, 5.37590497e-03, 2.58995042e-02],\n",
              "       [0.00000000e+00, 4.75597316e-04, 3.64319997e-03],\n",
              "       [0.00000000e+00, 2.89083218e-04, 2.62829537e-03],\n",
              "       [0.00000000e+00, 2.15966377e-03, 1.22218283e-02],\n",
              "       [0.00000000e+00, 3.99885749e-03, 1.53163337e-02],\n",
              "       [0.00000000e+00, 1.76377523e-03, 1.03873211e-02],\n",
              "       [0.00000000e+00, 2.68894099e-03, 1.25155523e-02],\n",
              "       [0.00000000e+00, 2.69146377e-04, 2.38135312e-03],\n",
              "       [0.00000000e+00, 8.55357304e-04, 6.27122127e-03],\n",
              "       [0.00000000e+00, 2.64030669e-03, 1.27638889e-02],\n",
              "       [0.00000000e+00, 1.92751433e-03, 1.05221983e-02],\n",
              "       [0.00000000e+00, 1.42656313e-03, 8.74891974e-03],\n",
              "       [0.00000000e+00, 3.70654885e-03, 1.91279348e-02],\n",
              "       [0.00000000e+00, 6.38156876e-03, 2.38207258e-02],\n",
              "       [0.00000000e+00, 7.16680550e-03, 2.45293343e-02],\n",
              "       [0.00000000e+00, 9.02263136e-04, 6.03163426e-03],\n",
              "       [0.00000000e+00, 5.69980106e-04, 4.26286335e-03],\n",
              "       [0.00000000e+00, 7.34867097e-04, 5.26467031e-03],\n",
              "       [0.00000000e+00, 5.60515673e-03, 2.64633006e-02],\n",
              "       [0.00000000e+00, 3.05408214e-04, 2.82999510e-03],\n",
              "       [0.00000000e+00, 4.13957565e-04, 3.47911625e-03],\n",
              "       [0.00000000e+00, 1.38478545e-03, 7.75432162e-03],\n",
              "       [0.00000000e+00, 0.00000000e+00, 0.00000000e+00]])"
            ]
          },
          "metadata": {},
          "execution_count": 88
        }
      ]
    },
    {
      "cell_type": "code",
      "source": [],
      "metadata": {
        "id": "DH6AnlEN-KJ2"
      },
      "execution_count": null,
      "outputs": []
    }
  ]
}