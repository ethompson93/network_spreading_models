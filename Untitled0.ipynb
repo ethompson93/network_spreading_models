{
  "cells": [
    {
      "cell_type": "code",
      "execution_count": 1,
      "metadata": {
        "id": "CM3P97P71PYw"
      },
      "outputs": [],
      "source": [
        "import numpy as np\n",
        "import pandas as pd\n",
        "import seaborn as sns\n",
        "from scipy.linalg import expm\n",
        "from code.network_diffusion_model import NDM, FKPP"
      ]
    },
    {
      "cell_type": "code",
      "execution_count": null,
      "metadata": {
        "id": "b0gtXH7D3gbS"
      },
      "outputs": [],
      "source": [
        "class NDM():\n",
        "    \"\"\"\n",
        "    class containing the paramters and implimenting the Network diffusion model\n",
        "    \"\"\"\n",
        "    def __init__(self, connectome_fname, gamma, t, seed_idx):\n",
        "        self.connectome_fname = connectome_fname\n",
        "\n",
        "        #self.rnoi = self.connectome.shape[0]\n",
        "        self.gamma = gamma\n",
        "        self.t = t\n",
        "        self.seed_idx = seed_idx\n",
        "\n",
        "\n",
        "    def prep_connectome(self):\n",
        "        '''\n",
        "        load connectome and ensure it is symmetrical\n",
        "        '''\n",
        "        C = np.loadtxt(self.connectome_fname, delimiter=\",\")\n",
        "\n",
        "        # check connectome is 2D square\n",
        "        assert C.shape[0] == C.shape[1]\n",
        "        assert len(C.shape) ==2\n",
        "\n",
        "        # make symmetric matrix\n",
        "        return np.triu(C,1)+np.tril(C.T)\n",
        "\n",
        "    def get_initial_con\n",
        "\n",
        "    def run_NDM(self):\n",
        "        '''\n",
        "        run the NDM network diffusion model by Raj et al.\n",
        "        inputs: C = connectome,\n",
        "                x0 = initial tau accumulation in each region,\n",
        "                gamma = diffusivity constant,\n",
        "                t = list of time points at which to predict accumulation\n",
        "        output:\n",
        "        '''\n",
        "        C = self.prep_connectome()\n",
        "        dt = self.t[1]-self.t[0]\n",
        "        Nt = len(self.t)\n",
        "\n",
        "        rowdegree = np.sum(C, 1)\n",
        "        D = np.diag(np.sum(C,0))\n",
        "        H = D - C                           # this does not include self-connections in the Laplacian\n",
        "        H = np.diag(1/(rowdegree+np.finfo(float).eps)) @ H  # since all brain regions are not the same size, each row and column is normalised by its sum\n",
        "        # note: this normalisation prevents means the sum of tau at each time is not consistent\n",
        "        # note +eps above, this prevents H containing NaNs if the rowdegree contains 0\n",
        "\n",
        "        #loop through time points, estimating tau accumulation at each point\n",
        "        x_t = np.empty([len(C),Nt])\n",
        "        x_t[:] = 0\n",
        "\n",
        "        x_t[self.seed_idx,0] = 1     # set first time point to initial conditions. Probably want to update this to a better method\n",
        "\n",
        "        for kt in range(1,Nt):  #iterate through time points, calculating the node atrophy as you go along\n",
        "                x_t[:,kt] = expm(-self.gamma*H*dt) @ x_t[:,kt-1]\n",
        "\n",
        "        return x_t/np.max(x_t,axis=0)\n",
        "\n",
        "\n",
        "    def optimise_epicentre(node_set,C,gamma,t,x_t_observed):\n",
        "        '''\n",
        "        pick the epicentre which gives the optimal results\n",
        "        '''\n",
        "        nroi = len(C)\n",
        "        min_sse_allEpis=[]\n",
        "        min_sse_t_allEpis=[]\n",
        "\n",
        "        for node in node_set:\n",
        "            x0 = np.zeros(nroi)\n",
        "            x0[node] = 1\n",
        "            x_t = run_NDM(C,x0,gamma,t)\n",
        "\n",
        "            # might be worth testing timing for saving all sse here into matirx\n",
        "            # min_sse = (NroixNtxNepi), do one minimisation at the end\n",
        "            # memory vs minimal operations trade-off\n",
        "            min_sse_node = calc_min_sse(x_t_observed,x_t)\n",
        "            min_sse_allEpis.append(min_sse_node[0])\n",
        "            min_sse_t_allEpis.append(min_sse_node[1])\n",
        "\n",
        "        # think about outputs\n",
        "        epi_idx = np.argmin(min_sse_allEpis)\n",
        "        min_sse = min_sse_allEpis[epi_idx]\n",
        "        t = min_sse_t_allEpis[epi_idx]\n",
        "\n",
        "        return min_sse,epi_idx,t\n",
        "\n",
        "\n",
        "    def calc_min_sse(x_t_observed,x_t_predicted):\n",
        "        '''\n",
        "        calculate the minimum sse between observed regional values,\n",
        "        and a series of predicted regional values\n",
        "        inputs: x_t_observed - vector of observed regional values (Nroi,)\n",
        "                x_t_predicted - vector of NDM predicted regional values (Nroi x Nt)\n",
        "        '''\n",
        "\n",
        "        sse = np.sum((x_t_predicted.T - x_t_observed).T**2,axis=0)\n",
        "        I = np.argmin(sse)\n",
        "        min_sse = sse[I]\n",
        "        return [min_sse,I]"
      ]
    },
    {
      "cell_type": "code",
      "execution_count": null,
      "metadata": {
        "colab": {
          "base_uri": "https://localhost:8080/",
          "height": 178
        },
        "id": "apH6s3ia5YH4",
        "outputId": "98b2ab6a-a3a4-41f6-da8b-f8a1b2a34dd8"
      },
      "outputs": [
        {
          "ename": "NameError",
          "evalue": "ignored",
          "output_type": "error",
          "traceback": [
            "\u001b[0;31m---------------------------------------------------------------------------\u001b[0m",
            "\u001b[0;31mNameError\u001b[0m                                 Traceback (most recent call last)",
            "\u001b[0;32m<ipython-input-3-842b4fdbe68b>\u001b[0m in \u001b[0;36m<cell line: 1>\u001b[0;34m()\u001b[0m\n\u001b[0;32m----> 1\u001b[0;31m \u001b[0msns\u001b[0m\u001b[0;34m.\u001b[0m\u001b[0mheatmap\u001b[0m\u001b[0;34m(\u001b[0m\u001b[0mC\u001b[0m\u001b[0;34m)\u001b[0m\u001b[0;34m\u001b[0m\u001b[0;34m\u001b[0m\u001b[0m\n\u001b[0m",
            "\u001b[0;31mNameError\u001b[0m: name 'C' is not defined"
          ]
        }
      ],
      "source": [
        "sns.heatmap(C)"
      ]
    },
    {
      "cell_type": "code",
      "execution_count": 6,
      "metadata": {
        "colab": {
          "base_uri": "https://localhost:8080/",
          "height": 344
        },
        "id": "e9wFpoIc56sT",
        "outputId": "b79c02fa-57a1-4e81-8aea-bf9f67696b3f"
      },
      "outputs": [
        {
          "ename": "ValueError",
          "evalue": "could not convert string '0.000000000000000000e+00,6.790040600000000204e+00,1.253653419999999869e+03,4.551654399999999612e+01 to float64 at row 0, column 1.",
          "output_type": "error",
          "traceback": [
            "\u001b[1;31m---------------------------------------------------------------------------\u001b[0m",
            "\u001b[1;31mValueError\u001b[0m                                Traceback (most recent call last)",
            "\u001b[1;32mc:\\Xin\\Studies\\cmichack\\network_spreading_models\\Untitled0.ipynb Cell 4\u001b[0m line \u001b[0;36m6\n\u001b[0;32m      <a href='vscode-notebook-cell:/c%3A/Xin/Studies/cmichack/network_spreading_models/Untitled0.ipynb#W3sZmlsZQ%3D%3D?line=2'>3</a>\u001b[0m t \u001b[39m=\u001b[39m [\u001b[39m0\u001b[39m,\u001b[39m10\u001b[39m,\u001b[39m100\u001b[39m]\n\u001b[0;32m      <a href='vscode-notebook-cell:/c%3A/Xin/Studies/cmichack/network_spreading_models/Untitled0.ipynb#W3sZmlsZQ%3D%3D?line=3'>4</a>\u001b[0m ndm \u001b[39m=\u001b[39m NDM(\u001b[39m\"\u001b[39m\u001b[39mdata/tractography.csv\u001b[39m\u001b[39m\"\u001b[39m, \u001b[39m0.1\u001b[39m, t, x_0, [\u001b[39m\"\u001b[39m\u001b[39mBankssts_L\u001b[39m\u001b[39m\"\u001b[39m])\n\u001b[1;32m----> <a href='vscode-notebook-cell:/c%3A/Xin/Studies/cmichack/network_spreading_models/Untitled0.ipynb#W3sZmlsZQ%3D%3D?line=5'>6</a>\u001b[0m C \u001b[39m=\u001b[39m ndm\u001b[39m.\u001b[39mprep_connectome()\n\u001b[0;32m      <a href='vscode-notebook-cell:/c%3A/Xin/Studies/cmichack/network_spreading_models/Untitled0.ipynb#W3sZmlsZQ%3D%3D?line=6'>7</a>\u001b[0m sns\u001b[39m.\u001b[39mheatmap(C)\n",
            "File \u001b[1;32mc:\\Xin\\Studies\\cmichack\\network_spreading_models\\code\\network_diffusion_model.py:53\u001b[0m, in \u001b[0;36mNDM.prep_connectome\u001b[1;34m(self)\u001b[0m\n\u001b[0;32m     49\u001b[0m \u001b[39mdef\u001b[39;00m \u001b[39mprep_connectome\u001b[39m(\u001b[39mself\u001b[39m):\n\u001b[0;32m     50\u001b[0m \u001b[39m    \u001b[39m\u001b[39m'''\u001b[39;00m\n\u001b[0;32m     51\u001b[0m \u001b[39m    load connectome and ensure it is symmetrical\u001b[39;00m\n\u001b[0;32m     52\u001b[0m \u001b[39m    '''\u001b[39;00m\n\u001b[1;32m---> 53\u001b[0m     C \u001b[39m=\u001b[39m np\u001b[39m.\u001b[39mloadtxt(\u001b[39mself\u001b[39m\u001b[39m.\u001b[39mconnectome_fname)\n\u001b[0;32m     55\u001b[0m     \u001b[39m# check connectome is 2D square\u001b[39;00m\n\u001b[0;32m     56\u001b[0m     \u001b[39massert\u001b[39;00m C\u001b[39m.\u001b[39mshape[\u001b[39m0\u001b[39m] \u001b[39m==\u001b[39m C\u001b[39m.\u001b[39mshape[\u001b[39m1\u001b[39m]\n",
            "File \u001b[1;32mc:\\Users\\User\\anaconda3\\Lib\\site-packages\\numpy\\lib\\npyio.py:1356\u001b[0m, in \u001b[0;36mloadtxt\u001b[1;34m(fname, dtype, comments, delimiter, converters, skiprows, usecols, unpack, ndmin, encoding, max_rows, quotechar, like)\u001b[0m\n\u001b[0;32m   1353\u001b[0m \u001b[39mif\u001b[39;00m \u001b[39misinstance\u001b[39m(delimiter, \u001b[39mbytes\u001b[39m):\n\u001b[0;32m   1354\u001b[0m     delimiter \u001b[39m=\u001b[39m delimiter\u001b[39m.\u001b[39mdecode(\u001b[39m'\u001b[39m\u001b[39mlatin1\u001b[39m\u001b[39m'\u001b[39m)\n\u001b[1;32m-> 1356\u001b[0m arr \u001b[39m=\u001b[39m _read(fname, dtype\u001b[39m=\u001b[39mdtype, comment\u001b[39m=\u001b[39mcomment, delimiter\u001b[39m=\u001b[39mdelimiter,\n\u001b[0;32m   1357\u001b[0m             converters\u001b[39m=\u001b[39mconverters, skiplines\u001b[39m=\u001b[39mskiprows, usecols\u001b[39m=\u001b[39musecols,\n\u001b[0;32m   1358\u001b[0m             unpack\u001b[39m=\u001b[39munpack, ndmin\u001b[39m=\u001b[39mndmin, encoding\u001b[39m=\u001b[39mencoding,\n\u001b[0;32m   1359\u001b[0m             max_rows\u001b[39m=\u001b[39mmax_rows, quote\u001b[39m=\u001b[39mquotechar)\n\u001b[0;32m   1361\u001b[0m \u001b[39mreturn\u001b[39;00m arr\n",
            "File \u001b[1;32mc:\\Users\\User\\anaconda3\\Lib\\site-packages\\numpy\\lib\\npyio.py:999\u001b[0m, in \u001b[0;36m_read\u001b[1;34m(fname, delimiter, comment, quote, imaginary_unit, usecols, skiplines, max_rows, converters, ndmin, unpack, dtype, encoding)\u001b[0m\n\u001b[0;32m    996\u001b[0m     data \u001b[39m=\u001b[39m _preprocess_comments(data, comments, encoding)\n\u001b[0;32m    998\u001b[0m \u001b[39mif\u001b[39;00m read_dtype_via_object_chunks \u001b[39mis\u001b[39;00m \u001b[39mNone\u001b[39;00m:\n\u001b[1;32m--> 999\u001b[0m     arr \u001b[39m=\u001b[39m _load_from_filelike(\n\u001b[0;32m   1000\u001b[0m         data, delimiter\u001b[39m=\u001b[39mdelimiter, comment\u001b[39m=\u001b[39mcomment, quote\u001b[39m=\u001b[39mquote,\n\u001b[0;32m   1001\u001b[0m         imaginary_unit\u001b[39m=\u001b[39mimaginary_unit,\n\u001b[0;32m   1002\u001b[0m         usecols\u001b[39m=\u001b[39musecols, skiplines\u001b[39m=\u001b[39mskiplines, max_rows\u001b[39m=\u001b[39mmax_rows,\n\u001b[0;32m   1003\u001b[0m         converters\u001b[39m=\u001b[39mconverters, dtype\u001b[39m=\u001b[39mdtype,\n\u001b[0;32m   1004\u001b[0m         encoding\u001b[39m=\u001b[39mencoding, filelike\u001b[39m=\u001b[39mfilelike,\n\u001b[0;32m   1005\u001b[0m         byte_converters\u001b[39m=\u001b[39mbyte_converters)\n\u001b[0;32m   1007\u001b[0m \u001b[39melse\u001b[39;00m:\n\u001b[0;32m   1008\u001b[0m     \u001b[39m# This branch reads the file into chunks of object arrays and then\u001b[39;00m\n\u001b[0;32m   1009\u001b[0m     \u001b[39m# casts them to the desired actual dtype.  This ensures correct\u001b[39;00m\n\u001b[0;32m   1010\u001b[0m     \u001b[39m# string-length and datetime-unit discovery (like `arr.astype()`).\u001b[39;00m\n\u001b[0;32m   1011\u001b[0m     \u001b[39m# Due to chunking, certain error reports are less clear, currently.\u001b[39;00m\n\u001b[0;32m   1012\u001b[0m     \u001b[39mif\u001b[39;00m filelike:\n",
            "\u001b[1;31mValueError\u001b[0m: could not convert string '0.000000000000000000e+00,6.790040600000000204e+00,1.253653419999999869e+03,4.551654399999999612e+01 to float64 at row 0, column 1."
          ]
        }
      ],
      "source": [
        "x_0 = np.zeros(84)\n",
        "x_0[5] = 1\n",
        "t = [0,10,100]\n",
        "ndm = NDM(\"data/tractography.csv\", 0.1, t, x_0, [\"Bankssts_L\"])\n",
        "\n",
        "C = ndm.prep_connectome()\n",
        "sns.heatmap(C)"
      ]
    },
    {
      "cell_type": "code",
      "execution_count": null,
      "metadata": {
        "colab": {
          "base_uri": "https://localhost:8080/"
        },
        "id": "X32ua2Zb6FYE",
        "outputId": "19ae7a62-ad19-49e3-f226-d1320aba4725"
      },
      "outputs": [
        {
          "data": {
            "text/plain": [
              "array([[0.00000000e+00, 7.87468640e-04, 6.29577688e-03],\n",
              "       [1.00000000e+00, 1.00000000e+00, 1.00000000e+00],\n",
              "       [0.00000000e+00, 5.56013230e-03, 2.57084049e-02],\n",
              "       [0.00000000e+00, 1.36996694e-03, 8.96724440e-03],\n",
              "       [0.00000000e+00, 1.70047790e-03, 9.78052687e-03],\n",
              "       [0.00000000e+00, 8.48939637e-04, 6.24020446e-03],\n",
              "       [0.00000000e+00, 1.18673340e-03, 8.43385700e-03],\n",
              "       [0.00000000e+00, 1.02669833e-03, 7.18150940e-03],\n",
              "       [0.00000000e+00, 4.51970573e-02, 1.15562660e-01],\n",
              "       [0.00000000e+00, 9.10181306e-04, 6.66714867e-03],\n",
              "       [0.00000000e+00, 6.35254183e-03, 2.81385941e-02],\n",
              "       [0.00000000e+00, 1.07729704e-03, 7.10215467e-03],\n",
              "       [0.00000000e+00, 3.13838727e-02, 9.26800610e-02],\n",
              "       [0.00000000e+00, 1.16956183e-03, 7.87271144e-03],\n",
              "       [0.00000000e+00, 5.17786340e-03, 2.01779728e-02],\n",
              "       [0.00000000e+00, 8.76883108e-03, 3.57382623e-02],\n",
              "       [0.00000000e+00, 7.62652316e-03, 2.86840128e-02],\n",
              "       [0.00000000e+00, 4.12697913e-03, 2.09621169e-02],\n",
              "       [0.00000000e+00, 5.70489722e-03, 2.40892827e-02],\n",
              "       [0.00000000e+00, 8.14111834e-04, 6.32329661e-03],\n",
              "       [0.00000000e+00, 1.95486069e-03, 1.28304543e-02],\n",
              "       [0.00000000e+00, 8.93402623e-02, 1.95721283e-01],\n",
              "       [0.00000000e+00, 3.46251143e-03, 1.85633121e-02],\n",
              "       [0.00000000e+00, 1.99863153e-02, 6.11306318e-02],\n",
              "       [0.00000000e+00, 1.77068117e-01, 3.62882409e-01],\n",
              "       [0.00000000e+00, 9.44661689e-03, 3.48008748e-02],\n",
              "       [0.00000000e+00, 3.33360580e-02, 7.93980542e-02],\n",
              "       [0.00000000e+00, 2.84882986e-03, 1.46526899e-02],\n",
              "       [0.00000000e+00, 1.53922470e-03, 9.60084308e-03],\n",
              "       [0.00000000e+00, 1.41782422e-03, 9.63168040e-03],\n",
              "       [0.00000000e+00, 1.73956796e-02, 5.89592935e-02],\n",
              "       [0.00000000e+00, 1.13311977e-03, 7.83782345e-03],\n",
              "       [0.00000000e+00, 1.26359096e-03, 8.64692563e-03],\n",
              "       [0.00000000e+00, 4.87032949e-03, 2.08432102e-02],\n",
              "       [0.00000000e+00, 0.00000000e+00, 0.00000000e+00],\n",
              "       [0.00000000e+00, 4.46753332e-03, 2.05022115e-02],\n",
              "       [0.00000000e+00, 6.71175115e-03, 2.65878831e-02],\n",
              "       [0.00000000e+00, 5.42007684e-03, 2.33183011e-02],\n",
              "       [0.00000000e+00, 4.73234215e-03, 2.21776379e-02],\n",
              "       [0.00000000e+00, 3.01430466e-03, 1.37643368e-02],\n",
              "       [0.00000000e+00, 1.29590583e-03, 8.97717164e-03],\n",
              "       [0.00000000e+00, 1.84214786e-02, 5.46126628e-02],\n",
              "       [0.00000000e+00, 1.52115092e-03, 8.30606086e-03],\n",
              "       [0.00000000e+00, 2.54811662e-03, 1.17862518e-02],\n",
              "       [0.00000000e+00, 1.60593198e-03, 8.79376825e-03],\n",
              "       [0.00000000e+00, 1.63204638e-03, 8.95521113e-03],\n",
              "       [0.00000000e+00, 5.10252434e-04, 3.90768080e-03],\n",
              "       [0.00000000e+00, 3.98017127e-04, 3.31869629e-03],\n",
              "       [0.00000000e+00, 2.71496153e-03, 1.39854849e-02],\n",
              "       [0.00000000e+00, 3.88777127e-04, 3.20519430e-03],\n",
              "       [0.00000000e+00, 4.56376950e-03, 1.83185492e-02],\n",
              "       [0.00000000e+00, 4.74462171e-03, 1.81332303e-02],\n",
              "       [0.00000000e+00, 3.39882195e-04, 2.86803537e-03],\n",
              "       [0.00000000e+00, 1.59817308e-04, 1.83388324e-03],\n",
              "       [0.00000000e+00, 2.05833272e-04, 2.01584226e-03],\n",
              "       [0.00000000e+00, 5.64773068e-04, 4.20932149e-03],\n",
              "       [0.00000000e+00, 3.65450330e-04, 2.94636247e-03],\n",
              "       [0.00000000e+00, 1.09227115e-03, 7.28863669e-03],\n",
              "       [0.00000000e+00, 3.34393317e-04, 2.79964628e-03],\n",
              "       [0.00000000e+00, 2.30291734e-03, 1.27781501e-02],\n",
              "       [0.00000000e+00, 3.41532100e-04, 2.76056176e-03],\n",
              "       [0.00000000e+00, 5.37590497e-03, 2.58995042e-02],\n",
              "       [0.00000000e+00, 4.75597316e-04, 3.64319997e-03],\n",
              "       [0.00000000e+00, 2.89083218e-04, 2.62829537e-03],\n",
              "       [0.00000000e+00, 2.15966377e-03, 1.22218283e-02],\n",
              "       [0.00000000e+00, 3.99885749e-03, 1.53163337e-02],\n",
              "       [0.00000000e+00, 1.76377523e-03, 1.03873211e-02],\n",
              "       [0.00000000e+00, 2.68894099e-03, 1.25155523e-02],\n",
              "       [0.00000000e+00, 2.69146377e-04, 2.38135312e-03],\n",
              "       [0.00000000e+00, 8.55357304e-04, 6.27122127e-03],\n",
              "       [0.00000000e+00, 2.64030669e-03, 1.27638889e-02],\n",
              "       [0.00000000e+00, 1.92751433e-03, 1.05221983e-02],\n",
              "       [0.00000000e+00, 1.42656313e-03, 8.74891974e-03],\n",
              "       [0.00000000e+00, 3.70654885e-03, 1.91279348e-02],\n",
              "       [0.00000000e+00, 6.38156876e-03, 2.38207258e-02],\n",
              "       [0.00000000e+00, 7.16680550e-03, 2.45293343e-02],\n",
              "       [0.00000000e+00, 9.02263136e-04, 6.03163426e-03],\n",
              "       [0.00000000e+00, 5.69980106e-04, 4.26286335e-03],\n",
              "       [0.00000000e+00, 7.34867097e-04, 5.26467031e-03],\n",
              "       [0.00000000e+00, 5.60515673e-03, 2.64633006e-02],\n",
              "       [0.00000000e+00, 3.05408214e-04, 2.82999510e-03],\n",
              "       [0.00000000e+00, 4.13957565e-04, 3.47911625e-03],\n",
              "       [0.00000000e+00, 1.38478545e-03, 7.75432162e-03],\n",
              "       [0.00000000e+00, 0.00000000e+00, 0.00000000e+00]])"
            ]
          },
          "execution_count": 88,
          "metadata": {},
          "output_type": "execute_result"
        }
      ],
      "source": [
        "a.run_NDM()"
      ]
    },
    {
      "cell_type": "code",
      "execution_count": null,
      "metadata": {
        "id": "DH6AnlEN-KJ2"
      },
      "outputs": [],
      "source": []
    }
  ],
  "metadata": {
    "colab": {
      "provenance": []
    },
    "kernelspec": {
      "display_name": "Python 3",
      "name": "python3"
    },
    "language_info": {
      "codemirror_mode": {
        "name": "ipython",
        "version": 3
      },
      "file_extension": ".py",
      "mimetype": "text/x-python",
      "name": "python",
      "nbconvert_exporter": "python",
      "pygments_lexer": "ipython3",
      "version": "3.11.5"
    }
  },
  "nbformat": 4,
  "nbformat_minor": 0
}
